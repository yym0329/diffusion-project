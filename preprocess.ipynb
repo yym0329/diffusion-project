{
 "cells": [
  {
   "cell_type": "code",
   "execution_count": null,
   "metadata": {},
   "outputs": [],
   "source": [
    "import json\n",
    "import os\n",
    "from tqdm.notebook import tqdm"
   ]
  },
  {
   "cell_type": "code",
   "execution_count": null,
   "metadata": {},
   "outputs": [],
   "source": [
    "import json \n",
    "import numpy as np \n",
    "from PIL import Image\n",
    "import random \n",
    "import os \n",
    "import glob\n",
    "import argparse \n",
    "\n",
    "\n",
    "# DO NOT modify the hyperparameters\n",
    "RESIZE_H, RESIZE_W = 100, 100\n",
    "H, W = 128, 128\n",
    "\n",
    "\n",
    "# Use this function to preprocess data\n",
    "def center_crop_img(tgt_img_path, mask_img_path):\n",
    "    tgt_img = Image.open(tgt_img_path).convert(\"RGB\")\n",
    "    np_tgt_img = np.array(tgt_img)\n",
    "\n",
    "    mask_img = Image.open(mask_img_path).convert(\"RGB\") # Foreground mask\n",
    "    # For some of the masks are given as [0, 255]\n",
    "    if np.array(mask_img).max() > 1:\n",
    "        np_mask_img = np.array(mask_img)\n",
    "    else:\n",
    "        np_mask_img = np.array(mask_img) * 255\n",
    "    assert np_mask_img.max() <= 255 and np_mask_img.min() >= 0, f\"{np_mask_img.min()}, {np_mask_img.max()}\"\n",
    "    np_tgt_img[np_mask_img == 0] = 255\n",
    "\n",
    "    # Crop image using bbox\n",
    "    y, x, r = np.where(np_mask_img == 255) # Get bbox using the mask\n",
    "    x1, x2, y1, y2 = x.min(), x.max(), y.min(), y.max()\n",
    "\n",
    "    crop_img = Image.fromarray(np_tgt_img).crop(\n",
    "        (x1, y1, x2, y2)\n",
    "    )\n",
    "\n",
    "    w = x2 - x1 \n",
    "    assert w > 0, f\"{x2} - {x1} = {w}\"\n",
    "    h = y2 - y1 \n",
    "    assert h > 0, f\"{y2} - {y1} = {h}\"\n",
    "\n",
    "    # Resize image with respect to max length \n",
    "    max_length = max(w, h)\n",
    "    ratio = RESIZE_W / max_length\n",
    "    resized_w, resized_h = round(w * ratio), round(h * ratio) # Avoid float error\n",
    "    assert resized_h == RESIZE_H or resized_w == RESIZE_W\n",
    "\n",
    "    resized_mask = crop_img.resize(\n",
    "        (resized_w, resized_h)\n",
    "    )\n",
    "\n",
    "    canvas = Image.new(\"RGB\", (H, W), (255, 255, 255))\n",
    "    pos_w, pos_h = resized_w - W, resized_h - H\n",
    "    \n",
    "    pos_w = abs(pos_w) // 2\n",
    "    pos_h = abs(pos_h) // 2\n",
    "    assert pos_w + resized_w <= W and pos_h + resized_h <= H\n",
    "\n",
    "    canvas.paste(\n",
    "        resized_mask, (pos_w, pos_h)\n",
    "    )\n",
    "\n",
    "    return canvas\n",
    "\n"
   ]
  },
  {
   "cell_type": "code",
   "execution_count": null,
   "metadata": {},
   "outputs": [],
   "source": [
    "json_file = 'metadata.json'\n",
    "with open(json_file) as f:\n",
    "    data = json.load(f)\n",
    "    print(len(data))"
   ]
  },
  {
   "cell_type": "code",
   "execution_count": null,
   "metadata": {},
   "outputs": [],
   "source": [
    "data"
   ]
  },
  {
   "cell_type": "code",
   "execution_count": null,
   "metadata": {},
   "outputs": [],
   "source": [
    "from multiprocessing import Pool\n",
    "ouput_dir = 'center_cropped'\n",
    "os.makedirs(ouput_dir, exist_ok=True)\n",
    "\n",
    "def process_image(k):\n",
    "  tgt_img_path = data[k]['tgt_img_path']\n",
    "  mask_img_path = data[k]['mask_path']\n",
    "  img_name = k + '.png'\n",
    "  output_img_path = os.path.join(ouput_dir, img_name)    \n",
    "\n",
    "  img = center_crop_img(tgt_img_path, mask_img_path)\n",
    "  img.save(output_img_path)\n",
    "  print(f\"Saved {output_img_path}\")\n",
    "\n",
    "# Create a pool of workers\n",
    "with Pool() as pool:\n",
    "  pool.map(process_image, data.keys())"
   ]
  }
 ],
 "metadata": {
  "kernelspec": {
   "display_name": "project",
   "language": "python",
   "name": "python3"
  },
  "language_info": {
   "codemirror_mode": {
    "name": "ipython",
    "version": 3
   },
   "file_extension": ".py",
   "mimetype": "text/x-python",
   "name": "python",
   "nbconvert_exporter": "python",
   "pygments_lexer": "ipython3",
   "version": "3.10.15"
  }
 },
 "nbformat": 4,
 "nbformat_minor": 2
}
