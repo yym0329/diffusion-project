{
 "cells": [
  {
   "cell_type": "markdown",
   "metadata": {},
   "source": [
    "# data processing"
   ]
  },
  {
   "cell_type": "markdown",
   "metadata": {},
   "source": [
    "## json create"
   ]
  },
  {
   "cell_type": "code",
   "execution_count": 1,
   "metadata": {},
   "outputs": [],
   "source": [
    "%load_ext autoreload\n",
    "%autoreload 2"
   ]
  },
  {
   "cell_type": "code",
   "execution_count": 2,
   "metadata": {},
   "outputs": [],
   "source": [
    "import os\n",
    "os.environ[\"CUDA_VISIBLE_DEVICES\"] = \"0\""
   ]
  },
  {
   "cell_type": "code",
   "execution_count": 3,
   "metadata": {},
   "outputs": [
    {
     "name": "stderr",
     "output_type": "stream",
     "text": [
      "/home/work/anaconda3/envs/dilightnet/lib/python3.10/site-packages/_distutils_hack/__init__.py:54: UserWarning: Reliance on distutils from stdlib is deprecated. Users must rely on setuptools to provide the distutils module. Avoid importing distutils or import setuptools first, and avoid setting SETUPTOOLS_USE_DISTUTILS=stdlib. Register concerns at https://github.com/pypa/setuptools/issues/new?template=distutils-deprecation.yml\n",
      "  warnings.warn(\n",
      "/home/work/anaconda3/envs/dilightnet/lib/python3.10/site-packages/dust3r/cloud_opt/base_opt.py:275: FutureWarning: `torch.cuda.amp.autocast(args...)` is deprecated. Please use `torch.amp.autocast('cuda', args...)` instead.\n",
      "  @torch.cuda.amp.autocast(enabled=False)\n"
     ]
    }
   ],
   "source": [
    "# package import\n",
    "\n",
    "from data_pack import DataSetDefinition\n",
    "import utils_cpu\n",
    "import utils_gpu\n",
    "\n",
    "from typing import List, Dict\n",
    "from tqdm import tqdm"
   ]
  },
  {
   "cell_type": "code",
   "execution_count": 4,
   "metadata": {},
   "outputs": [],
   "source": [
    "dataset_def = DataSetDefinition(\n",
    "    processed_dir_suffix=\"128_v1\"\n",
    ")\n"
   ]
  },
  {
   "cell_type": "code",
   "execution_count": 34,
   "metadata": {},
   "outputs": [
    {
     "data": {
      "text/plain": [
       "'./data/processed'"
      ]
     },
     "execution_count": 34,
     "metadata": {},
     "output_type": "execute_result"
    }
   ],
   "source": [
    "dataset_def.processed_data_root_dir"
   ]
  },
  {
   "cell_type": "code",
   "execution_count": 5,
   "metadata": {},
   "outputs": [],
   "source": [
    "step2_split = dataset_def.step2_dict_generator()"
   ]
  },
  {
   "cell_type": "code",
   "execution_count": 6,
   "metadata": {},
   "outputs": [],
   "source": [
    "train_split = step2_split[\"train\"]"
   ]
  },
  {
   "cell_type": "code",
   "execution_count": 6,
   "metadata": {},
   "outputs": [
    {
     "ename": "NameError",
     "evalue": "name 'train_split' is not defined",
     "output_type": "error",
     "traceback": [
      "\u001b[0;31m---------------------------------------------------------------------------\u001b[0m",
      "\u001b[0;31mNameError\u001b[0m                                 Traceback (most recent call last)",
      "Cell \u001b[0;32mIn[6], line 2\u001b[0m\n\u001b[1;32m      1\u001b[0m \u001b[38;5;28;01mfrom\u001b[39;00m \u001b[38;5;21;01measydict\u001b[39;00m \u001b[38;5;28;01mimport\u001b[39;00m EasyDict\n\u001b[0;32m----> 2\u001b[0m easy_dict \u001b[38;5;241m=\u001b[39m EasyDict(\u001b[43mtrain_split\u001b[49m[\u001b[38;5;241m0\u001b[39m])\n",
      "\u001b[0;31mNameError\u001b[0m: name 'train_split' is not defined"
     ]
    }
   ],
   "source": [
    "from easydict import EasyDict\n",
    "easy_dict = EasyDict(train_split[0])"
   ]
  },
  {
   "cell_type": "code",
   "execution_count": 9,
   "metadata": {},
   "outputs": [
    {
     "data": {
      "text/plain": [
       "{'image_path': './data/processed/train/images/obj_01_car/obj_01_car_004_CC7.png',\n",
       " 'mask_path': './data/processed/train/masks/obj_01_car/obj_01_car_CC7.png',\n",
       " 'viewpoint_id': 'CC7',\n",
       " 'lighting_condition_id': '004',\n",
       " 'image_id': 'obj_01_car',\n",
       " 'output_dir': './data/processed/128_v1/train/hints',\n",
       " 'fov': None,\n",
       " 'mask_threshold': 0.25,\n",
       " 'env_map': './data/generate_light_gt_sg/hdrs/004.hdr',\n",
       " 'pls': [[0, 0, 0]],\n",
       " 'use_gpu_for_rendering': True,\n",
       " 'resolution': 128}"
      ]
     },
     "execution_count": 9,
     "metadata": {},
     "output_type": "execute_result"
    }
   ],
   "source": [
    "easy_dict"
   ]
  },
  {
   "cell_type": "code",
   "execution_count": null,
   "metadata": {},
   "outputs": [
    {
     "name": "stdout",
     "output_type": "stream",
     "text": [
      "Rendering radiance hints for ./data/processed/train/images/obj_01_car/obj_01_car_004_CC7.png with viewpoint CC7 and lighting condition 004\n",
      "Radiance hints not rendered to ./data/processed/128_v1/train/hints/obj_01_car/CC7/004/hint00_diffuse.png\n",
      "Radiance hints not rendered to ./data/processed/128_v1/train/hints/obj_01_car/CC7/004/hint00_ggx0.05.png\n",
      "Radiance hints already rendered to ./data/processed/128_v1/train/hints/obj_01_car/CC7/004/hint00_ggx0.13.png\n",
      "Radiance hints already rendered to ./data/processed/128_v1/train/hints/obj_01_car/CC7/004/hint00_ggx0.34.png\n",
      ">> Inference with model on 2 image pairs\n"
     ]
    },
    {
     "name": "stderr",
     "output_type": "stream",
     "text": [
      "  0%|          | 0/2 [00:00<?, ?it/s]"
     ]
    },
    {
     "name": "stderr",
     "output_type": "stream",
     "text": [
      "/home/work/anaconda3/envs/dilightnet/lib/python3.10/site-packages/dust3r/inference.py:44: FutureWarning: `torch.cuda.amp.autocast(args...)` is deprecated. Please use `torch.amp.autocast('cuda', args...)` instead.\n",
      "  with torch.cuda.amp.autocast(enabled=bool(use_amp)):\n",
      "/home/work/anaconda3/envs/dilightnet/lib/python3.10/site-packages/dust3r/model.py:199: FutureWarning: `torch.cuda.amp.autocast(args...)` is deprecated. Please use `torch.amp.autocast('cuda', args...)` instead.\n",
      "  with torch.cuda.amp.autocast(enabled=False):\n",
      "/home/work/anaconda3/envs/dilightnet/lib/python3.10/site-packages/dust3r/inference.py:48: FutureWarning: `torch.cuda.amp.autocast(args...)` is deprecated. Please use `torch.amp.autocast('cuda', args...)` instead.\n",
      "  with torch.cuda.amp.autocast(enabled=False):\n",
      "100%|██████████| 2/2 [00:02<00:00,  1.25s/it]\n"
     ]
    },
    {
     "name": "stdout",
     "output_type": "stream",
     "text": [
      " init edge (0*,1*) score=np.float64(19.82822036743164)\n",
      " init loss = 0.0016863520722836256\n",
      "Global alignement - optimizing for:\n",
      "['pw_poses', 'im_depthmaps', 'im_poses', 'im_focals']\n"
     ]
    },
    {
     "name": "stderr",
     "output_type": "stream",
     "text": [
      "100%|██████████| 300/300 [00:06<00:00, 44.33it/s, lr=1.27413e-06 loss=0.00125575]\n"
     ]
    },
    {
     "name": "stdout",
     "output_type": "stream",
     "text": [
      "Mesh reconstructed with fov: 33.92671203613281\n",
      "Data are loaded, start creating Blender stuff\n",
      "glTF import finished in 0.25s\n",
      "> \u001b[0;32m/data2/code/diffusion-project/DiLightNet/demo/render_hints.py\u001b[0m(54)\u001b[0;36mconfigure_blender\u001b[0;34m()\u001b[0m\n",
      "\u001b[0;32m     53 \u001b[0;31m            \u001b[0;32mimport\u001b[0m \u001b[0mipdb\u001b[0m \u001b[0;34m;\u001b[0m \u001b[0mipdb\u001b[0m\u001b[0;34m.\u001b[0m\u001b[0mset_trace\u001b[0m\u001b[0;34m(\u001b[0m\u001b[0;34m)\u001b[0m\u001b[0;34m\u001b[0m\u001b[0;34m\u001b[0m\u001b[0m\n",
      "\u001b[0m\u001b[0;32m---> 54 \u001b[0;31m            \u001b[0;32mfor\u001b[0m \u001b[0md\u001b[0m \u001b[0;32min\u001b[0m \u001b[0mbpy\u001b[0m\u001b[0;34m.\u001b[0m\u001b[0mcontext\u001b[0m\u001b[0;34m.\u001b[0m\u001b[0mpreferences\u001b[0m\u001b[0;34m.\u001b[0m\u001b[0maddons\u001b[0m\u001b[0;34m[\u001b[0m\u001b[0;34m\"cycles\"\u001b[0m\u001b[0;34m]\u001b[0m\u001b[0;34m.\u001b[0m\u001b[0mpreferences\u001b[0m\u001b[0;34m.\u001b[0m\u001b[0mdevices\u001b[0m\u001b[0;34m:\u001b[0m\u001b[0;34m\u001b[0m\u001b[0;34m\u001b[0m\u001b[0m\n",
      "\u001b[0m\u001b[0;32m     55 \u001b[0;31m                \u001b[0;32mif\u001b[0m \u001b[0md\u001b[0m\u001b[0;34m.\u001b[0m\u001b[0mtype\u001b[0m \u001b[0;34m==\u001b[0m \u001b[0;34m\"CUDA\"\u001b[0m\u001b[0;34m:\u001b[0m\u001b[0;34m\u001b[0m\u001b[0;34m\u001b[0m\u001b[0m\n",
      "\u001b[0m\n",
      "<bpy_collection[3], CyclesPreferences.devices>\n",
      "<bpy_struct, CyclesDeviceSettings(\"NVIDIA H100 80GB HBM3\") at 0x3147c348>\n",
      "<bpy_struct, CyclesDeviceSettings(\"Intel Xeon Platinum 8468\") at 0x3147c3d0>\n",
      "<bpy_struct, CyclesDeviceSettings(\"NVIDIA H100 80GB HBM3\") at 0x3147c458>\n",
      "*** IndexError: bpy_prop_collection[index]: index 3 out of range, size 3\n",
      "<bpy_struct, CyclesDeviceSettings(\"NVIDIA H100 80GB HBM3\") at 0x3147c348>\n",
      "<bpy_struct, CyclesDeviceSettings(\"Intel Xeon Platinum 8468\") at 0x3147c3d0>\n",
      "<bpy_struct, CyclesDeviceSettings(\"NVIDIA H100 80GB HBM3\") at 0x3147c348>\n",
      "0\n",
      "<bpy_struct, CyclesDeviceSettings(\"NVIDIA H100 80GB HBM3\") at 0x3147c348>\n",
      "<bpy_struct, CyclesDeviceSettings(\"Intel Xeon Platinum 8468\") at 0x3147c3d0>\n",
      "<bpy_struct, CyclesDeviceSettings(\"NVIDIA H100 80GB HBM3\") at 0x3147c458>\n",
      "*** AttributeError: 'CyclesDeviceSettings' object has no attribute 'types'. Did you mean: 'type'?\n",
      "*** AttributeError: 'CyclesDeviceSettings' object has no attribute 'types'. Did you mean: 'type'?\n",
      "'CUDA'\n",
      "*** SyntaxError: invalid syntax\n",
      "*** NameError: name 'torch' is not defined\n",
      "1\n",
      "'CUDA_NVIDIA H100 80GB HBM3_0000:19:00'\n",
      "'CUDA_NVIDIA H100 80GB HBM3_0000:19:00_OptiX'\n",
      "*** AttributeError: 'CyclesDeviceSettings' object has no attribute 'compute_device_type'\n",
      "*** AttributeError: 'CyclesDeviceSettings' object has no attribute 'compute_device_type'\n",
      "'OPTIX'\n"
     ]
    }
   ],
   "source": [
    "radiance_result = utils_gpu.elem_generate_hint(train_split[0])"
   ]
  },
  {
   "cell_type": "code",
   "execution_count": 11,
   "metadata": {},
   "outputs": [],
   "source": [
    "# directory structure -> list of data\n",
    "\n",
    "step1_datadict_train_list: List[Dict[str, str]] = []\n",
    "step1_datadict_eval_list: List[Dict[str, str]] = []\n",
    "\n",
    "for each_class_name in dataset_def.class_name_list:\n",
    "    for each_view_point in dataset_def.view_point_list:\n",
    "        for each_light_condition in dataset_def.light_condition_list:\n",
    "\n",
    "            image_path = DataSetDefinition.get_image_path(\n",
    "                data_root_dir=dataset_def.raw_data_root_dir,\n",
    "                class_name=each_class_name,\n",
    "                light_condition=each_light_condition,\n",
    "                view_point=each_view_point,\n",
    "            )\n",
    "            mask_path = DataSetDefinition.get_mask_path(\n",
    "                data_root_dir=dataset_def.raw_data_root_dir,\n",
    "                class_name=each_class_name,\n",
    "                view_point=each_view_point,\n",
    "            )\n",
    "\n",
    "            parsed_name = DataSetDefinition.get_image_path(\n",
    "                data_root_dir=dataset_def.raw_data_root_dir,\n",
    "                class_name=each_class_name,\n",
    "                light_condition=each_light_condition,\n",
    "                view_point=each_view_point,\n",
    "                parsed=True,\n",
    "            )\n",
    "\n",
    "            if parsed_name in dataset_def.eval_split:\n",
    "                step1_datadict_eval_list.append(\n",
    "                    {\n",
    "                        \"key\": f\"{each_class_name}_{each_light_condition}_{each_view_point}\",\n",
    "                        \"image_path\": image_path,\n",
    "                        \"mask_path\": mask_path,\n",
    "                    }\n",
    "                )\n",
    "            else:\n",
    "                step1_datadict_train_list.append(\n",
    "                    {\n",
    "                        \"key\": f\"{each_class_name}_{each_light_condition}_          {each_view_point}\",\n",
    "                        \"image_path\": image_path,\n",
    "                        \"mask_path\": mask_path,\n",
    "                    }\n",
    "                )"
   ]
  }
 ],
 "metadata": {
  "kernelspec": {
   "display_name": "Python 3",
   "language": "python",
   "name": "python3"
  },
  "language_info": {
   "codemirror_mode": {
    "name": "ipython",
    "version": 3
   },
   "file_extension": ".py",
   "mimetype": "text/x-python",
   "name": "python",
   "nbconvert_exporter": "python",
   "pygments_lexer": "ipython3",
   "version": "3.10.15"
  }
 },
 "nbformat": 4,
 "nbformat_minor": 2
}
