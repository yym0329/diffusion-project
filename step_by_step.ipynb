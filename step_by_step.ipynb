{
 "cells": [
  {
   "cell_type": "markdown",
   "metadata": {},
   "source": [
    "# data processing"
   ]
  },
  {
   "cell_type": "markdown",
   "metadata": {},
   "source": [
    "## json create"
   ]
  },
  {
   "cell_type": "code",
   "execution_count": 1,
   "metadata": {},
   "outputs": [],
   "source": [
    "%load_ext autoreload\n",
    "%autoreload 2"
   ]
  },
  {
   "cell_type": "code",
   "execution_count": 2,
   "metadata": {},
   "outputs": [
    {
     "name": "stderr",
     "output_type": "stream",
     "text": [
      "/opt/conda/lib/python3.10/site-packages/tqdm/auto.py:21: TqdmWarning: IProgress not found. Please update jupyter and ipywidgets. See https://ipywidgets.readthedocs.io/en/stable/user_install.html\n",
      "  from .autonotebook import tqdm as notebook_tqdm\n"
     ]
    }
   ],
   "source": [
    "# package import\n",
    "from data_pack import DataSetDefinition\n",
    "import utils_cpu\n",
    "\n",
    "from typing import List, Dict\n",
    "from tqdm import tqdm"
   ]
  },
  {
   "cell_type": "code",
   "execution_count": 3,
   "metadata": {},
   "outputs": [
    {
     "ename": "NameError",
     "evalue": "name 'data_pack' is not defined",
     "output_type": "error",
     "traceback": [
      "\u001b[0;31m---------------------------------------------------------------------------\u001b[0m",
      "\u001b[0;31mNameError\u001b[0m                                 Traceback (most recent call last)",
      "Cell \u001b[0;32mIn[3], line 1\u001b[0m\n\u001b[0;32m----> 1\u001b[0m dataset_def \u001b[38;5;241m=\u001b[39m \u001b[43mdata_pack\u001b[49m\u001b[38;5;241m.\u001b[39mDataSetDefinition()\n",
      "\u001b[0;31mNameError\u001b[0m: name 'data_pack' is not defined"
     ]
    }
   ],
   "source": [
    "dataset_def = DataSetDefinition()\n"
   ]
  },
  {
   "cell_type": "code",
   "execution_count": 103,
   "metadata": {},
   "outputs": [],
   "source": [
    "# directory structure -> list of data\n",
    "\n",
    "step1_datadict_train_list: List[Dict[str, str]] = []\n",
    "step1_datadict_eval_list: List[Dict[str, str]] = []\n",
    "\n",
    "for each_class_name in dataset_def.class_name_list:\n",
    "    for each_view_point in dataset_def.view_point_list:\n",
    "        for each_light_condition in dataset_def.light_condition_list:\n",
    "\n",
    "            image_path = DataSetDefinition.get_image_path(\n",
    "                data_root_dir=dataset_def.raw_data_root_dir,\n",
    "                class_name=each_class_name,\n",
    "                light_condition=each_light_condition,\n",
    "                view_point=each_view_point,\n",
    "            )\n",
    "            mask_path = DataSetDefinition.get_mask_path(\n",
    "                data_root_dir=dataset_def.raw_data_root_dir,\n",
    "                class_name=each_class_name,\n",
    "                view_point=each_view_point,\n",
    "            )\n",
    "\n",
    "            parsed_name = DataSetDefinition.get_image_path(\n",
    "                data_root_dir=dataset_def.raw_data_root_dir,\n",
    "                class_name=each_class_name,\n",
    "                light_condition=each_light_condition,\n",
    "                view_point=each_view_point,\n",
    "                parsed=True,\n",
    "            )\n",
    "\n",
    "            if parsed_name in dataset_def.eval_split:\n",
    "                step1_datadict_eval_list.append(\n",
    "                    {\n",
    "                        \"key\": f\"{each_class_name}_{each_light_condition}_{each_view_point}\",\n",
    "                        \"image_path\": image_path,\n",
    "                        \"mask_path\": mask_path,\n",
    "                    }\n",
    "                )\n",
    "            else:\n",
    "                step1_datadict_train_list.append(\n",
    "                    {\n",
    "                        \"key\": f\"{each_class_name}_{each_light_condition}_          {each_view_point}\",\n",
    "                        \"image_path\": image_path,\n",
    "                        \"mask_path\": mask_path,\n",
    "                    }\n",
    "                )"
   ]
  },
  {
   "cell_type": "code",
   "execution_count": null,
   "metadata": {},
   "outputs": [
    {
     "name": "stderr",
     "output_type": "stream",
     "text": [
      "2024-11-19 12:11:38,860\tINFO util.py:154 -- Missing packages: ['ipywidgets']. Run `pip install -U ipywidgets`, then restart the notebook server for rich notebook output.\n",
      "2024-11-19 12:11:41,362\tINFO worker.py:1810 -- Started a local Ray instance. View the dashboard at \u001b[1m\u001b[32m127.0.0.1:8265 \u001b[39m\u001b[22m\n"
     ]
    }
   ],
   "source": [
    "import ray\n",
    "\n",
    "ray.init()\n",
    "wrapped_process_image = ray.remote(utils_cpu.process_image)\n",
    "output_dir = \"./data/processed/train\"\n",
    "\n",
    "\n",
    "ray_pack = []\n",
    "for each_elem in dataset_def.step1_datadict_train_list:\n",
    "    ray_pack.append(wrapped_process_image.remote(each_elem,\n",
    "                                                 output_dir))\n",
    "\n",
    "result = ray.get(ray_pack)"
   ]
  },
  {
   "cell_type": "code",
   "execution_count": 105,
   "metadata": {},
   "outputs": [
    {
     "name": "stderr",
     "output_type": "stream",
     "text": [
      "  0%|          | 0/8192 [00:00<?, ?it/s]"
     ]
    },
    {
     "name": "stderr",
     "output_type": "stream",
     "text": [
      "  0%|          | 1/8192 [00:00<1:25:21,  1.60it/s]"
     ]
    },
    {
     "name": "stdout",
     "output_type": "stream",
     "text": [
      "Saved ./data/processed/train/images/obj_01_car_001_     /obj_01_car_001_          NA3.png\n",
      "Saved ./data/processed/train/masks/obj_01_car_001_     /obj_01_car_001_     _NA3.png\n"
     ]
    },
    {
     "name": "stderr",
     "output_type": "stream",
     "text": [
      "  0%|          | 2/8192 [00:01<1:11:03,  1.92it/s]"
     ]
    },
    {
     "name": "stdout",
     "output_type": "stream",
     "text": [
      "Saved ./data/processed/train/images/obj_01_car_002_     /obj_01_car_002_          NA3.png\n",
      "Saved ./data/processed/train/masks/obj_01_car_002_     /obj_01_car_002_     _NA3.png\n"
     ]
    },
    {
     "name": "stderr",
     "output_type": "stream",
     "text": [
      "  0%|          | 3/8192 [00:01<1:08:37,  1.99it/s]"
     ]
    },
    {
     "name": "stdout",
     "output_type": "stream",
     "text": [
      "Saved ./data/processed/train/images/obj_01_car_003_     /obj_01_car_003_          NA3.png\n",
      "Saved ./data/processed/train/masks/obj_01_car_003_     /obj_01_car_003_     _NA3.png\n"
     ]
    },
    {
     "name": "stderr",
     "output_type": "stream",
     "text": [
      "  0%|          | 4/8192 [00:02<1:05:42,  2.08it/s]"
     ]
    },
    {
     "name": "stdout",
     "output_type": "stream",
     "text": [
      "Saved ./data/processed/train/images/obj_01_car_004_     /obj_01_car_004_          NA3.png\n",
      "Saved ./data/processed/train/masks/obj_01_car_004_     /obj_01_car_004_     _NA3.png\n"
     ]
    },
    {
     "name": "stderr",
     "output_type": "stream",
     "text": [
      "  0%|          | 5/8192 [00:02<1:05:32,  2.08it/s]"
     ]
    },
    {
     "name": "stdout",
     "output_type": "stream",
     "text": [
      "Saved ./data/processed/train/images/obj_01_car_005_     /obj_01_car_005_          NA3.png\n",
      "Saved ./data/processed/train/masks/obj_01_car_005_     /obj_01_car_005_     _NA3.png\n"
     ]
    },
    {
     "name": "stderr",
     "output_type": "stream",
     "text": [
      "  0%|          | 6/8192 [00:02<1:04:12,  2.13it/s]"
     ]
    },
    {
     "name": "stdout",
     "output_type": "stream",
     "text": [
      "Saved ./data/processed/train/images/obj_01_car_006_     /obj_01_car_006_          NA3.png\n",
      "Saved ./data/processed/train/masks/obj_01_car_006_     /obj_01_car_006_     _NA3.png\n"
     ]
    },
    {
     "name": "stderr",
     "output_type": "stream",
     "text": [
      "  0%|          | 7/8192 [00:03<1:04:18,  2.12it/s]"
     ]
    },
    {
     "name": "stdout",
     "output_type": "stream",
     "text": [
      "Saved ./data/processed/train/images/obj_01_car_007_     /obj_01_car_007_          NA3.png\n",
      "Saved ./data/processed/train/masks/obj_01_car_007_     /obj_01_car_007_     _NA3.png\n"
     ]
    },
    {
     "name": "stderr",
     "output_type": "stream",
     "text": [
      "  0%|          | 8/8192 [00:03<1:04:45,  2.11it/s]"
     ]
    },
    {
     "name": "stdout",
     "output_type": "stream",
     "text": [
      "Saved ./data/processed/train/images/obj_01_car_008_     /obj_01_car_008_          NA3.png\n",
      "Saved ./data/processed/train/masks/obj_01_car_008_     /obj_01_car_008_     _NA3.png\n"
     ]
    },
    {
     "name": "stderr",
     "output_type": "stream",
     "text": [
      "  0%|          | 9/8192 [00:04<1:03:37,  2.14it/s]"
     ]
    },
    {
     "name": "stdout",
     "output_type": "stream",
     "text": [
      "Saved ./data/processed/train/images/obj_01_car_009_     /obj_01_car_009_          NA3.png\n",
      "Saved ./data/processed/train/masks/obj_01_car_009_     /obj_01_car_009_     _NA3.png\n"
     ]
    },
    {
     "name": "stderr",
     "output_type": "stream",
     "text": [
      "  0%|          | 10/8192 [00:04<1:02:44,  2.17it/s]"
     ]
    },
    {
     "name": "stdout",
     "output_type": "stream",
     "text": [
      "Saved ./data/processed/train/images/obj_01_car_010_     /obj_01_car_010_          NA3.png\n",
      "Saved ./data/processed/train/masks/obj_01_car_010_     /obj_01_car_010_     _NA3.png\n"
     ]
    },
    {
     "name": "stderr",
     "output_type": "stream",
     "text": [
      "  0%|          | 11/8192 [00:05<1:03:20,  2.15it/s]"
     ]
    },
    {
     "name": "stdout",
     "output_type": "stream",
     "text": [
      "Saved ./data/processed/train/images/obj_01_car_011_     /obj_01_car_011_          NA3.png\n",
      "Saved ./data/processed/train/masks/obj_01_car_011_     /obj_01_car_011_     _NA3.png\n"
     ]
    },
    {
     "name": "stderr",
     "output_type": "stream",
     "text": [
      "  0%|          | 12/8192 [00:05<1:08:29,  1.99it/s]"
     ]
    },
    {
     "name": "stdout",
     "output_type": "stream",
     "text": [
      "Saved ./data/processed/train/images/obj_01_car_012_     /obj_01_car_012_          NA3.png\n",
      "Saved ./data/processed/train/masks/obj_01_car_012_     /obj_01_car_012_     _NA3.png\n"
     ]
    },
    {
     "name": "stderr",
     "output_type": "stream",
     "text": [
      "  0%|          | 13/8192 [00:06<1:07:45,  2.01it/s]"
     ]
    },
    {
     "name": "stdout",
     "output_type": "stream",
     "text": [
      "Saved ./data/processed/train/images/obj_01_car_013_     /obj_01_car_013_          NA3.png\n",
      "Saved ./data/processed/train/masks/obj_01_car_013_     /obj_01_car_013_     _NA3.png\n"
     ]
    },
    {
     "name": "stderr",
     "output_type": "stream",
     "text": [
      "  0%|          | 14/8192 [00:06<1:06:31,  2.05it/s]"
     ]
    },
    {
     "name": "stdout",
     "output_type": "stream",
     "text": [
      "Saved ./data/processed/train/images/obj_01_car_001_     /obj_01_car_001_          NE7.png\n",
      "Saved ./data/processed/train/masks/obj_01_car_001_     /obj_01_car_001_     _NE7.png\n"
     ]
    },
    {
     "name": "stderr",
     "output_type": "stream",
     "text": [
      "  0%|          | 15/8192 [00:07<1:06:01,  2.06it/s]"
     ]
    },
    {
     "name": "stdout",
     "output_type": "stream",
     "text": [
      "Saved ./data/processed/train/images/obj_01_car_002_     /obj_01_car_002_          NE7.png\n",
      "Saved ./data/processed/train/masks/obj_01_car_002_     /obj_01_car_002_     _NE7.png\n"
     ]
    },
    {
     "name": "stderr",
     "output_type": "stream",
     "text": [
      "  0%|          | 16/8192 [00:07<1:04:08,  2.12it/s]"
     ]
    },
    {
     "name": "stdout",
     "output_type": "stream",
     "text": [
      "Saved ./data/processed/train/images/obj_01_car_003_     /obj_01_car_003_          NE7.png\n",
      "Saved ./data/processed/train/masks/obj_01_car_003_     /obj_01_car_003_     _NE7.png\n"
     ]
    },
    {
     "name": "stderr",
     "output_type": "stream",
     "text": [
      "  0%|          | 17/8192 [00:08<1:03:06,  2.16it/s]"
     ]
    },
    {
     "name": "stdout",
     "output_type": "stream",
     "text": [
      "Saved ./data/processed/train/images/obj_01_car_004_     /obj_01_car_004_          NE7.png\n",
      "Saved ./data/processed/train/masks/obj_01_car_004_     /obj_01_car_004_     _NE7.png\n"
     ]
    },
    {
     "name": "stderr",
     "output_type": "stream",
     "text": [
      "  0%|          | 18/8192 [00:08<1:04:36,  2.11it/s]"
     ]
    },
    {
     "name": "stdout",
     "output_type": "stream",
     "text": [
      "Saved ./data/processed/train/images/obj_01_car_005_     /obj_01_car_005_          NE7.png\n",
      "Saved ./data/processed/train/masks/obj_01_car_005_     /obj_01_car_005_     _NE7.png\n"
     ]
    },
    {
     "name": "stderr",
     "output_type": "stream",
     "text": [
      "  0%|          | 19/8192 [00:09<1:03:44,  2.14it/s]"
     ]
    },
    {
     "name": "stdout",
     "output_type": "stream",
     "text": [
      "Saved ./data/processed/train/images/obj_01_car_006_     /obj_01_car_006_          NE7.png\n",
      "Saved ./data/processed/train/masks/obj_01_car_006_     /obj_01_car_006_     _NE7.png\n"
     ]
    },
    {
     "name": "stderr",
     "output_type": "stream",
     "text": [
      "  0%|          | 20/8192 [00:09<1:04:08,  2.12it/s]"
     ]
    },
    {
     "name": "stdout",
     "output_type": "stream",
     "text": [
      "Saved ./data/processed/train/images/obj_01_car_007_     /obj_01_car_007_          NE7.png\n",
      "Saved ./data/processed/train/masks/obj_01_car_007_     /obj_01_car_007_     _NE7.png\n"
     ]
    },
    {
     "name": "stderr",
     "output_type": "stream",
     "text": [
      "  0%|          | 21/8192 [00:10<1:03:18,  2.15it/s]"
     ]
    },
    {
     "name": "stdout",
     "output_type": "stream",
     "text": [
      "Saved ./data/processed/train/images/obj_01_car_008_     /obj_01_car_008_          NE7.png\n",
      "Saved ./data/processed/train/masks/obj_01_car_008_     /obj_01_car_008_     _NE7.png\n"
     ]
    },
    {
     "name": "stderr",
     "output_type": "stream",
     "text": [
      "  0%|          | 22/8192 [00:10<1:06:45,  2.04it/s]"
     ]
    },
    {
     "name": "stdout",
     "output_type": "stream",
     "text": [
      "Saved ./data/processed/train/images/obj_01_car_009_     /obj_01_car_009_          NE7.png\n",
      "Saved ./data/processed/train/masks/obj_01_car_009_     /obj_01_car_009_     _NE7.png\n"
     ]
    },
    {
     "name": "stderr",
     "output_type": "stream",
     "text": [
      "  0%|          | 23/8192 [00:11<1:06:42,  2.04it/s]"
     ]
    },
    {
     "name": "stdout",
     "output_type": "stream",
     "text": [
      "Saved ./data/processed/train/images/obj_01_car_010_     /obj_01_car_010_          NE7.png\n",
      "Saved ./data/processed/train/masks/obj_01_car_010_     /obj_01_car_010_     _NE7.png\n"
     ]
    },
    {
     "name": "stderr",
     "output_type": "stream",
     "text": [
      "  0%|          | 24/8192 [00:11<1:05:49,  2.07it/s]"
     ]
    },
    {
     "name": "stdout",
     "output_type": "stream",
     "text": [
      "Saved ./data/processed/train/images/obj_01_car_011_     /obj_01_car_011_          NE7.png\n",
      "Saved ./data/processed/train/masks/obj_01_car_011_     /obj_01_car_011_     _NE7.png\n"
     ]
    },
    {
     "name": "stderr",
     "output_type": "stream",
     "text": [
      "  0%|          | 25/8192 [00:11<1:04:05,  2.12it/s]"
     ]
    },
    {
     "name": "stdout",
     "output_type": "stream",
     "text": [
      "Saved ./data/processed/train/images/obj_01_car_012_     /obj_01_car_012_          NE7.png\n",
      "Saved ./data/processed/train/masks/obj_01_car_012_     /obj_01_car_012_     _NE7.png\n"
     ]
    },
    {
     "name": "stderr",
     "output_type": "stream",
     "text": [
      "  0%|          | 26/8192 [00:12<1:06:04,  2.06it/s]"
     ]
    },
    {
     "name": "stdout",
     "output_type": "stream",
     "text": [
      "Saved ./data/processed/train/images/obj_01_car_013_     /obj_01_car_013_          NE7.png\n",
      "Saved ./data/processed/train/masks/obj_01_car_013_     /obj_01_car_013_     _NE7.png\n"
     ]
    },
    {
     "name": "stderr",
     "output_type": "stream",
     "text": [
      "\n"
     ]
    },
    {
     "ename": "KeyboardInterrupt",
     "evalue": "",
     "output_type": "error",
     "traceback": [
      "\u001b[0;31m---------------------------------------------------------------------------\u001b[0m",
      "\u001b[0;31mKeyboardInterrupt\u001b[0m                         Traceback (most recent call last)",
      "Cell \u001b[0;32mIn[105], line 4\u001b[0m\n\u001b[1;32m      1\u001b[0m output_dir \u001b[38;5;241m=\u001b[39m \u001b[38;5;124m\"\u001b[39m\u001b[38;5;124m./data/processed/train\u001b[39m\u001b[38;5;124m\"\u001b[39m\n\u001b[1;32m      3\u001b[0m \u001b[38;5;28;01mfor\u001b[39;00m each_split \u001b[38;5;129;01min\u001b[39;00m tqdm(dataset_def\u001b[38;5;241m.\u001b[39mstep1_datadict_train_list):\n\u001b[0;32m----> 4\u001b[0m     \u001b[43mutils\u001b[49m\u001b[38;5;241;43m.\u001b[39;49m\u001b[43mprocess_image\u001b[49m\u001b[43m(\u001b[49m\n\u001b[1;32m      5\u001b[0m \u001b[43m        \u001b[49m\u001b[43mdata_dict\u001b[49m\u001b[38;5;241;43m=\u001b[39;49m\u001b[43meach_split\u001b[49m\u001b[43m,\u001b[49m\n\u001b[1;32m      6\u001b[0m \u001b[43m        \u001b[49m\u001b[43moutput_dir\u001b[49m\u001b[38;5;241;43m=\u001b[39;49m\u001b[43moutput_dir\u001b[49m\u001b[43m,\u001b[49m\n\u001b[1;32m      7\u001b[0m \u001b[43m    \u001b[49m\u001b[43m)\u001b[49m\n",
      "File \u001b[0;32m/data2/code/diffusion-project/utils.py:139\u001b[0m, in \u001b[0;36mprocess_image\u001b[0;34m(data_dict, output_dir)\u001b[0m\n\u001b[1;32m    136\u001b[0m tgt_img_path \u001b[38;5;241m=\u001b[39m data_dict[\u001b[38;5;124m\"\u001b[39m\u001b[38;5;124mimage_path\u001b[39m\u001b[38;5;124m\"\u001b[39m]\n\u001b[1;32m    137\u001b[0m mask_img_path \u001b[38;5;241m=\u001b[39m data_dict[\u001b[38;5;124m\"\u001b[39m\u001b[38;5;124mmask_path\u001b[39m\u001b[38;5;124m\"\u001b[39m]\n\u001b[0;32m--> 139\u001b[0m img, mask \u001b[38;5;241m=\u001b[39m \u001b[43mcenter_crop_img\u001b[49m\u001b[43m(\u001b[49m\u001b[43mtgt_img_path\u001b[49m\u001b[43m,\u001b[49m\u001b[43m \u001b[49m\u001b[43mmask_img_path\u001b[49m\u001b[43m)\u001b[49m\n\u001b[1;32m    141\u001b[0m img_name \u001b[38;5;241m=\u001b[39m k \u001b[38;5;241m+\u001b[39m \u001b[38;5;124m\"\u001b[39m\u001b[38;5;124m.png\u001b[39m\u001b[38;5;124m\"\u001b[39m\n\u001b[1;32m    142\u001b[0m \u001b[38;5;66;03m# key example: 'obj_28_metal_bucket_010_NA3'\u001b[39;00m\n",
      "File \u001b[0;32m/data2/code/diffusion-project/utils.py:77\u001b[0m, in \u001b[0;36mcenter_crop_img\u001b[0;34m(tgt_img_path, mask_img_path)\u001b[0m\n\u001b[1;32m     74\u001b[0m np_tgt_img \u001b[38;5;241m=\u001b[39m np\u001b[38;5;241m.\u001b[39marray(tgt_img)\n\u001b[1;32m     76\u001b[0m \u001b[38;5;66;03m# mask is processed as [0, 255] value\u001b[39;00m\n\u001b[0;32m---> 77\u001b[0m mask_img \u001b[38;5;241m=\u001b[39m \u001b[43mImage\u001b[49m\u001b[38;5;241;43m.\u001b[39;49m\u001b[43mopen\u001b[49m\u001b[43m(\u001b[49m\u001b[43mmask_img_path\u001b[49m\u001b[43m)\u001b[49m\u001b[38;5;241;43m.\u001b[39;49m\u001b[43mconvert\u001b[49m\u001b[43m(\u001b[49m\u001b[38;5;124;43m\"\u001b[39;49m\u001b[38;5;124;43mRGB\u001b[39;49m\u001b[38;5;124;43m\"\u001b[39;49m\u001b[43m)\u001b[49m  \u001b[38;5;66;03m# Foreground mask\u001b[39;00m\n\u001b[1;32m     78\u001b[0m \u001b[38;5;66;03m# For some of the masks are given as [0, 255]\u001b[39;00m\n\u001b[1;32m     79\u001b[0m \u001b[38;5;28;01mif\u001b[39;00m np\u001b[38;5;241m.\u001b[39marray(mask_img)\u001b[38;5;241m.\u001b[39mmax() \u001b[38;5;241m>\u001b[39m \u001b[38;5;241m1\u001b[39m:\n",
      "File \u001b[0;32m/opt/conda/lib/python3.10/site-packages/PIL/Image.py:922\u001b[0m, in \u001b[0;36mImage.convert\u001b[0;34m(self, mode, matrix, dither, palette, colors)\u001b[0m\n\u001b[1;32m    874\u001b[0m \u001b[38;5;28;01mdef\u001b[39;00m \u001b[38;5;21mconvert\u001b[39m(\n\u001b[1;32m    875\u001b[0m     \u001b[38;5;28mself\u001b[39m, mode\u001b[38;5;241m=\u001b[39m\u001b[38;5;28;01mNone\u001b[39;00m, matrix\u001b[38;5;241m=\u001b[39m\u001b[38;5;28;01mNone\u001b[39;00m, dither\u001b[38;5;241m=\u001b[39m\u001b[38;5;28;01mNone\u001b[39;00m, palette\u001b[38;5;241m=\u001b[39mPalette\u001b[38;5;241m.\u001b[39mWEB, colors\u001b[38;5;241m=\u001b[39m\u001b[38;5;241m256\u001b[39m\n\u001b[1;32m    876\u001b[0m ):\n\u001b[1;32m    877\u001b[0m \u001b[38;5;250m    \u001b[39m\u001b[38;5;124;03m\"\"\"\u001b[39;00m\n\u001b[1;32m    878\u001b[0m \u001b[38;5;124;03m    Returns a converted copy of this image. For the \"P\" mode, this\u001b[39;00m\n\u001b[1;32m    879\u001b[0m \u001b[38;5;124;03m    method translates pixels through the palette.  If mode is\u001b[39;00m\n\u001b[0;32m   (...)\u001b[0m\n\u001b[1;32m    919\u001b[0m \u001b[38;5;124;03m    :returns: An :py:class:`~PIL.Image.Image` object.\u001b[39;00m\n\u001b[1;32m    920\u001b[0m \u001b[38;5;124;03m    \"\"\"\u001b[39;00m\n\u001b[0;32m--> 922\u001b[0m     \u001b[38;5;28;43mself\u001b[39;49m\u001b[38;5;241;43m.\u001b[39;49m\u001b[43mload\u001b[49m\u001b[43m(\u001b[49m\u001b[43m)\u001b[49m\n\u001b[1;32m    924\u001b[0m     has_transparency \u001b[38;5;241m=\u001b[39m \u001b[38;5;124m\"\u001b[39m\u001b[38;5;124mtransparency\u001b[39m\u001b[38;5;124m\"\u001b[39m \u001b[38;5;129;01min\u001b[39;00m \u001b[38;5;28mself\u001b[39m\u001b[38;5;241m.\u001b[39minfo\n\u001b[1;32m    925\u001b[0m     \u001b[38;5;28;01mif\u001b[39;00m \u001b[38;5;129;01mnot\u001b[39;00m mode \u001b[38;5;129;01mand\u001b[39;00m \u001b[38;5;28mself\u001b[39m\u001b[38;5;241m.\u001b[39mmode \u001b[38;5;241m==\u001b[39m \u001b[38;5;124m\"\u001b[39m\u001b[38;5;124mP\u001b[39m\u001b[38;5;124m\"\u001b[39m:\n\u001b[1;32m    926\u001b[0m         \u001b[38;5;66;03m# determine default mode\u001b[39;00m\n",
      "File \u001b[0;32m/opt/conda/lib/python3.10/site-packages/PIL/ImageFile.py:291\u001b[0m, in \u001b[0;36mImageFile.load\u001b[0;34m(self)\u001b[0m\n\u001b[1;32m    288\u001b[0m         \u001b[38;5;28;01mraise\u001b[39;00m \u001b[38;5;167;01mOSError\u001b[39;00m(msg)\n\u001b[1;32m    290\u001b[0m b \u001b[38;5;241m=\u001b[39m b \u001b[38;5;241m+\u001b[39m s\n\u001b[0;32m--> 291\u001b[0m n, err_code \u001b[38;5;241m=\u001b[39m \u001b[43mdecoder\u001b[49m\u001b[38;5;241;43m.\u001b[39;49m\u001b[43mdecode\u001b[49m\u001b[43m(\u001b[49m\u001b[43mb\u001b[49m\u001b[43m)\u001b[49m\n\u001b[1;32m    292\u001b[0m \u001b[38;5;28;01mif\u001b[39;00m n \u001b[38;5;241m<\u001b[39m \u001b[38;5;241m0\u001b[39m:\n\u001b[1;32m    293\u001b[0m     \u001b[38;5;28;01mbreak\u001b[39;00m\n",
      "\u001b[0;31mKeyboardInterrupt\u001b[0m: "
     ]
    }
   ],
   "source": [
    "\n",
    "output_dir = \"./data/processed/train\"\n",
    "\n",
    "ray.init()\n",
    "\n",
    "wrapped_process_image = ray.remote(utils_cpu.process_image)\n",
    "\n",
    "for each_split in tqdm(dataset_def.step1_datadict_train_list):\n",
    "    utils_cpu.process_image(\n",
    "        data_dict=each_split,\n",
    "        output_dir=output_dir,\n",
    "    )\n"
   ]
  }
 ],
 "metadata": {
  "kernelspec": {
   "display_name": "base",
   "language": "python",
   "name": "python3"
  },
  "language_info": {
   "codemirror_mode": {
    "name": "ipython",
    "version": 3
   },
   "file_extension": ".py",
   "mimetype": "text/x-python",
   "name": "python",
   "nbconvert_exporter": "python",
   "pygments_lexer": "ipython3",
   "version": "3.10.13"
  }
 },
 "nbformat": 4,
 "nbformat_minor": 2
}
