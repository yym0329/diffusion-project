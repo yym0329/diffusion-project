{
 "cells": [
  {
   "cell_type": "markdown",
   "metadata": {},
   "source": [
    "# 설명\n",
    "- radiance hint generation을 위한 envmap 생성을 위한 trial code\n",
    "- "
   ]
  },
  {
   "cell_type": "code",
   "execution_count": null,
   "metadata": {},
   "outputs": [],
   "source": [
    "# envs\n",
    "import torch\n",
    "import numpy as np\n",
    "TINY_NUMBER = 1e-8"
   ]
  },
  {
   "cell_type": "code",
   "execution_count": null,
   "metadata": {},
   "outputs": [],
   "source": [
    "\"\"\"\n",
    "보아하니 OLAT -> SG -> Envmap으로 변환을 해야 하는 것으로 보인다.\n",
    "\n",
    "\"\"\"\n",
    "\n",
    "def SG2Envmap(lgtSGs, H, W, upper_hemi=False):\n",
    "    \"\"\"\n",
    "    https://github.com/oppo-us-research/OpenIlluminationCapture/issues/2#issuecomment-1790001568\n",
    "    \n",
    "    we provide SG parameters of each light in our paper, which are 236.97054 for lobe size, 5 for light intensity, and the light positions are available in light_pos.npy.\n",
    "    You can use these parameters to construct each light's SG function and convert it into environment map accordingly\n",
    "    \n",
    "    \"\"\"\n",
    "    # exactly same convetion as Mitsuba, check envmap_convention.png\n",
    "    if upper_hemi:\n",
    "        phi, theta = torch.meshgrid([torch.linspace(0., np.pi/2., H), torch.linspace(-0.5*np.pi, 1.5*np.pi, W)])\n",
    "    else:\n",
    "        phi, theta = torch.meshgrid([torch.linspace(0., np.pi, H), torch.linspace(-0.5*np.pi, 1.5*np.pi, W)])\n",
    "\n",
    "    viewdirs = torch.stack([torch.cos(theta) * torch.sin(phi), torch.cos(phi), torch.sin(theta) * torch.sin(phi)],\n",
    "                           dim=-1)    # [H, W, 3]\n",
    "    # print(viewdirs[0, 0, :], viewdirs[0, W//2, :], viewdirs[0, -1, :])\n",
    "    # print(viewdirs[H//2, 0, :], viewdirs[H//2, W//2, :], viewdirs[H//2, -1, :])\n",
    "    # print(viewdirs[-1, 0, :], viewdirs[-1, W//2, :], viewdirs[-1, -1, :])\n",
    "\n",
    "    # lgtSGs = lgtSGs.clone().detach()\n",
    "    viewdirs = viewdirs.to(lgtSGs.device)\n",
    "    viewdirs = viewdirs.unsqueeze(-2)  # [..., 1, 3]\n",
    "    # [M, 7] ---> [..., M, 7]\n",
    "    dots_sh = list(viewdirs.shape[:-2])\n",
    "    M = lgtSGs.shape[0]\n",
    "    lgtSGs = lgtSGs.view([1,]*len(dots_sh)+[M, 7]).expand(dots_sh+[M, 7])\n",
    "    # sanity\n",
    "    # [..., M, 3]\n",
    "    lgtSGLobes = lgtSGs[..., :3] / (torch.norm(lgtSGs[..., :3], dim=-1, keepdim=True) + TINY_NUMBER)\n",
    "    lgtSGLambdas = torch.abs(lgtSGs[..., 3:4])\n",
    "    lgtSGMus = torch.abs(lgtSGs[..., -3:])  # positive values\n",
    "    # [..., M, 3]\n",
    "    rgb = lgtSGMus * torch.exp(lgtSGLambdas * (torch.sum(viewdirs * lgtSGLobes, dim=-1, keepdim=True) - 1.))\n",
    "    rgb = torch.sum(rgb, dim=-2)  # [..., 3]\n",
    "    envmap = rgb.reshape((H, W, 3))\n",
    "    return envmap\n"
   ]
  }
 ],
 "metadata": {
  "kernelspec": {
   "display_name": "cs492d",
   "language": "python",
   "name": "python3"
  },
  "language_info": {
   "name": "python",
   "version": "3.8.20"
  }
 },
 "nbformat": 4,
 "nbformat_minor": 2
}
